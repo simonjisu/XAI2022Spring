{
 "cells": [
  {
   "cell_type": "markdown",
   "metadata": {},
   "source": [
    "# Partial Dependence Plot\n",
    "\n",
    "## Definition\n",
    "\n",
    "The partial dependence plot(PDP) shows the marginal effect one or two features have on the predicted outcome of a machine learning model ( {cite}`friedman2001greedy` ).\n",
    "\n",
    "In the probability theory, the marginal probability of random variable $X$ on $Y$ can be calculated by getting expectation on the joint distribution of random variables $X, Y$.\n",
    "\n",
    "$$ f_X(x) = \\Bbb{E}_Y\\left[f_{X, Y}(x, y)\\right] = \\int_Y f_{X, Y}(x, y) f_Y(y) dy$$\n",
    "\n",
    "Let's say the random variable that we concern is $X_s$, and the other variables are $X_c$, the partial dependence function is as follow:\n",
    "\n",
    "$$f_{X_s}(x_S)=\\Bbb{E}_{X_c}\\left[f_{X_s, X_c}(x_s,x_c)\\right]=\\int f_{X_s, X_c}(x_s,x_c)f_{X_c}(x_c)dx_c$$\n",
    "\n",
    "- $x_s$: the features that we care about\n",
    "- $x_c$: other features\n",
    "- $f$: probability function(or model)\n",
    "\n",
    "## Implementation\n",
    "\n",
    "The partial function $f_{X_s}(x_S)$ can be estimated by calculating averages in the training data, also known as Monte Carlo method:\n",
    "\n",
    "$$f_{X_s}(x_S) = \\dfrac{1}{n} \\sum_{i=1}^n f_{X_s, X_c}(x_s,x_c^{(i)})$$"
   ]
  },
  {
   "cell_type": "code",
   "execution_count": 107,
   "metadata": {},
   "outputs": [],
   "source": [
    "import matplotlib.pyplot as plt\n",
    "import numpy as np\n",
    "import pandas as pd\n",
    "import hvplot.pandas\n",
    "\n",
    "from sklearn.datasets import fetch_california_housing\n",
    "from sklearn.ensemble import GradientBoostingRegressor\n",
    "from sklearn.inspection import PartialDependenceDisplay, permutation_importance\n",
    "from sklearn.model_selection import train_test_split\n",
    "from sklearn.metrics import r2_score, mean_squared_error"
   ]
  },
  {
   "cell_type": "markdown",
   "metadata": {},
   "source": [
    "## Dataset: California Housing dataset\n",
    "\n",
    "This dataset was obtained from the StatLib repository. https://www.dcc.fc.up.pt/~ltorgo/Regression/cal_housing.html\n",
    "\n",
    "It was derived from the 1990 U.S. census, using one row per census block group. A block group is the smallest geographical unit for which the U.S. Census Bureau publishes sample data (a block group typically has a population of 600 to 3,000 people).\n",
    "\n",
    "An household is a group of people residing within a home. Since the average number of rooms and bedrooms in this dataset are provided per household, these columns may take surpinsingly large values for block groups with few households and many empty houses, such as vacation resorts.\n",
    "\n",
    "- References: https://scikit-learn.org/stable/datasets/real_world.html#california-housing-dataset\n",
    "\n",
    "| Columns | Explaination |\n",
    "| --- | --- |\n",
    "| MedHouseVal | The median house value for California districts, expressed in hundreds of thousands of dollars ($100,000).| \n",
    "| MedInc | median income in block group |\n",
    "| HouseAge | median house age in block group |\n",
    "| AveRooms | average number of rooms per household |\n",
    "| AveBedrms | average number of bedrooms per household |\n",
    "| Population | block group population |\n",
    "| AveOccup | average number of household members |\n",
    "| Latitude | block group latitude |\n",
    "| Longitude | block group longitude |"
   ]
  },
  {
   "cell_type": "code",
   "execution_count": 102,
   "metadata": {},
   "outputs": [],
   "source": [
    "house = fetch_california_housing()\n",
    "df = pd.DataFrame(house['data'], columns=house['feature_names'])\n",
    "df[house['target_names'][0]] = house['target']"
   ]
  },
  {
   "cell_type": "code",
   "execution_count": 103,
   "metadata": {},
   "outputs": [
    {
     "data": {},
     "metadata": {},
     "output_type": "display_data"
    },
    {
     "data": {
      "application/vnd.holoviews_exec.v0+json": "",
      "text/html": [
       "<div id='5437'>\n",
       "\n",
       "\n",
       "\n",
       "\n",
       "\n",
       "  <div class=\"bk-root\" id=\"ca968a0d-b791-4abb-a708-8912dd971dad\" data-root-id=\"5437\"></div>\n",
       "</div>\n",
       "<script type=\"application/javascript\">(function(root) {\n",
       "  function embed_document(root) {\n",
       "    var docs_json = {\"52d753fd-a02e-48f6-b52b-4e3bb6ffc8f5\":{\"defs\":[{\"extends\":null,\"module\":null,\"name\":\"ReactiveHTML1\",\"overrides\":[],\"properties\":[]},{\"extends\":null,\"module\":null,\"name\":\"FlexBox1\",\"overrides\":[],\"properties\":[{\"default\":\"flex-start\",\"kind\":null,\"name\":\"align_content\"},{\"default\":\"flex-start\",\"kind\":null,\"name\":\"align_items\"},{\"default\":\"row\",\"kind\":null,\"name\":\"flex_direction\"},{\"default\":\"wrap\",\"kind\":null,\"name\":\"flex_wrap\"},{\"default\":\"flex-start\",\"kind\":null,\"name\":\"justify_content\"}]},{\"extends\":null,\"module\":null,\"name\":\"TemplateActions1\",\"overrides\":[],\"properties\":[{\"default\":0,\"kind\":null,\"name\":\"open_modal\"},{\"default\":0,\"kind\":null,\"name\":\"close_modal\"}]},{\"extends\":null,\"module\":null,\"name\":\"MaterialTemplateActions1\",\"overrides\":[],\"properties\":[{\"default\":0,\"kind\":null,\"name\":\"open_modal\"},{\"default\":0,\"kind\":null,\"name\":\"close_modal\"}]}],\"roots\":{\"references\":[{\"attributes\":{\"coordinates\":null,\"data_source\":{\"id\":\"5472\"},\"glyph\":{\"id\":\"5475\"},\"group\":null,\"hover_glyph\":null,\"muted_glyph\":{\"id\":\"5477\"},\"nonselection_glyph\":{\"id\":\"5476\"},\"selection_glyph\":{\"id\":\"5480\"},\"view\":{\"id\":\"5479\"}},\"id\":\"5478\",\"type\":\"GlyphRenderer\"},{\"attributes\":{\"callback\":null,\"renderers\":[{\"id\":\"5478\"}],\"tags\":[\"hv_created\"],\"tooltips\":[[\"MedHouseVal\",\"@{MedHouseVal}\"],[\"Count\",\"@{MedHouseVal_count}\"]]},\"id\":\"5441\",\"type\":\"HoverTool\"},{\"attributes\":{\"axis_label\":\"Median House Value($100,000)\",\"coordinates\":null,\"formatter\":{\"id\":\"5482\"},\"group\":null,\"major_label_policy\":{\"id\":\"5483\"},\"ticker\":{\"id\":\"5452\"}},\"id\":\"5451\",\"type\":\"LinearAxis\"},{\"attributes\":{},\"id\":\"5473\",\"type\":\"Selection\"},{\"attributes\":{},\"id\":\"5486\",\"type\":\"AllLabels\"},{\"attributes\":{\"bottom\":{\"value\":0},\"fill_alpha\":{\"value\":0.1},\"fill_color\":{\"value\":\"#30a2da\"},\"hatch_alpha\":{\"value\":0.1},\"hatch_color\":{\"value\":\"#30a2da\"},\"left\":{\"field\":\"left\"},\"line_alpha\":{\"value\":0.1},\"right\":{\"field\":\"right\"},\"top\":{\"field\":\"top\"}},\"id\":\"5476\",\"type\":\"Quad\"},{\"attributes\":{\"bottom_units\":\"screen\",\"coordinates\":null,\"fill_alpha\":0.5,\"fill_color\":\"lightgrey\",\"group\":null,\"left_units\":\"screen\",\"level\":\"overlay\",\"line_alpha\":1.0,\"line_color\":\"black\",\"line_dash\":[4,4],\"line_width\":2,\"right_units\":\"screen\",\"syncable\":false,\"top_units\":\"screen\"},\"id\":\"5464\",\"type\":\"BoxAnnotation\"},{\"attributes\":{\"bottom\":{\"value\":0},\"fill_color\":{\"value\":\"#30a2da\"},\"hatch_color\":{\"value\":\"#30a2da\"},\"left\":{\"field\":\"left\"},\"right\":{\"field\":\"right\"},\"top\":{\"field\":\"top\"}},\"id\":\"5475\",\"type\":\"Quad\"},{\"attributes\":{},\"id\":\"5459\",\"type\":\"SaveTool\"},{\"attributes\":{},\"id\":\"5449\",\"type\":\"LinearScale\"},{\"attributes\":{},\"id\":\"5494\",\"type\":\"UnionRenderers\"},{\"attributes\":{\"source\":{\"id\":\"5472\"}},\"id\":\"5479\",\"type\":\"CDSView\"},{\"attributes\":{\"tools\":[{\"id\":\"5441\"},{\"id\":\"5459\"},{\"id\":\"5460\"},{\"id\":\"5461\"},{\"id\":\"5462\"},{\"id\":\"5463\"}]},\"id\":\"5465\",\"type\":\"Toolbar\"},{\"attributes\":{},\"id\":\"5452\",\"type\":\"BasicTicker\"},{\"attributes\":{\"bottom\":{\"value\":0},\"fill_alpha\":{\"value\":0.2},\"fill_color\":{\"value\":\"#30a2da\"},\"hatch_alpha\":{\"value\":0.2},\"hatch_color\":{\"value\":\"#30a2da\"},\"left\":{\"field\":\"left\"},\"line_alpha\":{\"value\":0.2},\"right\":{\"field\":\"right\"},\"top\":{\"field\":\"top\"}},\"id\":\"5477\",\"type\":\"Quad\"},{\"attributes\":{},\"id\":\"5463\",\"type\":\"ResetTool\"},{\"attributes\":{\"axis\":{\"id\":\"5455\"},\"coordinates\":null,\"dimension\":1,\"grid_line_color\":null,\"group\":null,\"ticker\":null},\"id\":\"5458\",\"type\":\"Grid\"},{\"attributes\":{\"margin\":[5,5,5,5],\"name\":\"HSpacer09382\",\"sizing_mode\":\"stretch_width\"},\"id\":\"5507\",\"type\":\"Spacer\"},{\"attributes\":{},\"id\":\"5461\",\"type\":\"WheelZoomTool\"},{\"attributes\":{},\"id\":\"5485\",\"type\":\"BasicTickFormatter\"},{\"attributes\":{\"axis\":{\"id\":\"5451\"},\"coordinates\":null,\"grid_line_color\":null,\"group\":null,\"ticker\":null},\"id\":\"5454\",\"type\":\"Grid\"},{\"attributes\":{\"axis_label\":\"Count\",\"coordinates\":null,\"formatter\":{\"id\":\"5485\"},\"group\":null,\"major_label_policy\":{\"id\":\"5486\"},\"ticker\":{\"id\":\"5456\"}},\"id\":\"5455\",\"type\":\"LinearAxis\"},{\"attributes\":{},\"id\":\"5482\",\"type\":\"BasicTickFormatter\"},{\"attributes\":{\"margin\":[5,5,5,5],\"name\":\"HSpacer09381\",\"sizing_mode\":\"stretch_width\"},\"id\":\"5438\",\"type\":\"Spacer\"},{\"attributes\":{\"children\":[{\"id\":\"5438\"},{\"id\":\"5442\"},{\"id\":\"5507\"}],\"margin\":[0,0,0,0],\"name\":\"Row09377\",\"tags\":[\"embedded\"]},\"id\":\"5437\",\"type\":\"Row\"},{\"attributes\":{},\"id\":\"5460\",\"type\":\"PanTool\"},{\"attributes\":{\"coordinates\":null,\"group\":null,\"text\":\"The Median House Value Distribution\",\"text_color\":\"black\",\"text_font_size\":\"12pt\"},\"id\":\"5443\",\"type\":\"Title\"},{\"attributes\":{\"end\":5.2078679999999995,\"reset_end\":5.2078679999999995,\"reset_start\":-0.057867999999999975,\"start\":-0.057867999999999975,\"tags\":[[[\"MedHouseVal\",\"MedHouseVal\",null]]]},\"id\":\"5439\",\"type\":\"Range1d\"},{\"attributes\":{\"data\":{\"MedHouseVal\":{\"__ndarray__\":\"HfK8QaGLzT+GWz6Skh7ZP/4ez0Gqu+E/OhB/Ogvo5j92AS8zbBTsP1h575VmoPA/9nFHEpc28z+Uap+Ox8z1PzJj9wr4Yvg/0FtPhyj5+j9uVKcDWY/9P4am/7/EEgBA1KIr/txdAUAin1c89agCQHKbg3oN9ANAwJevuCU/BUAQlNv2PYoGQF6QBzVW1QdArowzc24gCUD8iF+xhmsKQEuFi++etgtAmoG3LbcBDUDofeNrz0wOQDh6D6rnlw9ARLsd9H9xEEBquTMTDBcRQJK3STKYvBFAurVfUSRiEkDhs3VwsAcTQAiyi488rRNA\",\"dtype\":\"float64\",\"order\":\"little\",\"shape\":[30]},\"MedHouseVal_count\":[16,111,750,1014,1353,1245,1295,1371,1433,1501,1350,920,1089,958,752,730,619,420,367,418,454,311,232,209,173,145,161,98,87,1058],\"left\":{\"__ndarray__\":\"pg9dUN8ywz9Kao6ZMfLTP8FM7orzSt4/nBcnvtpR5D/YCNe2O37pPxT6hq+cqu4/p3Ub1H7r8T9FbnNQr4H0P+Nmy8zfF/c/gV8jSRCu+T8fWHvFQET8P7xQ00Fx2v4/raQV31C4AED7oEEdaQMCQEqdbVuBTgNAmZmZmZmZBEDolcXXseQFQDeS8RXKLwdAho4dVOJ6CEDVikmS+sUJQCSHddASEQtAcoOhDitcDEDBf81MQ6cNQBB8+Ypb8g5AMLyS5LkeEEBXuqgDRsQQQH64viLSaRFAprbUQV4PEkDNtOpg6rQSQPWyAIB2WhNA\",\"dtype\":\"float64\",\"order\":\"little\",\"shape\":[30]},\"right\":{\"__ndarray__\":\"SmqOmTHy0z/BTO6K80reP5wXJ77aUeQ/2AjXtjt+6T8U+oavnKruP6d1G9R+6/E/RW5zUK+B9D/jZsvM3xf3P4FfI0kQrvk/H1h7xUBE/D+8UNNBcdr+P62kFd9QuABA+6BBHWkDAkBKnW1bgU4DQJmZmZmZmQRA6JXF17HkBUA3kvEVyi8HQIaOHVTieghA1YpJkvrFCUAkh3XQEhELQHKDoQ4rXAxAwX/NTEOnDUAQfPmKW/IOQDC8kuS5HhBAV7qoA0bEEEB+uL4i0mkRQKa21EFeDxJAzbTqYOq0EkD1sgCAdloTQByxFp8CABRA\",\"dtype\":\"float64\",\"order\":\"little\",\"shape\":[30]},\"top\":[16,111,750,1014,1353,1245,1295,1371,1433,1501,1350,920,1089,958,752,730,619,420,367,418,454,311,232,209,173,145,161,98,87,1058]},\"selected\":{\"id\":\"5473\"},\"selection_policy\":{\"id\":\"5494\"}},\"id\":\"5472\",\"type\":\"ColumnDataSource\"},{\"attributes\":{},\"id\":\"5456\",\"type\":\"BasicTicker\"},{\"attributes\":{},\"id\":\"5483\",\"type\":\"AllLabels\"},{\"attributes\":{\"below\":[{\"id\":\"5451\"}],\"center\":[{\"id\":\"5454\"},{\"id\":\"5458\"}],\"height\":300,\"left\":[{\"id\":\"5455\"}],\"margin\":[5,5,5,5],\"min_border_bottom\":10,\"min_border_left\":10,\"min_border_right\":10,\"min_border_top\":10,\"renderers\":[{\"id\":\"5478\"}],\"sizing_mode\":\"fixed\",\"title\":{\"id\":\"5443\"},\"toolbar\":{\"id\":\"5465\"},\"width\":700,\"x_range\":{\"id\":\"5439\"},\"x_scale\":{\"id\":\"5447\"},\"y_range\":{\"id\":\"5440\"},\"y_scale\":{\"id\":\"5449\"}},\"id\":\"5442\",\"subtype\":\"Figure\",\"type\":\"Plot\"},{\"attributes\":{\"bottom\":{\"value\":0},\"fill_alpha\":{\"value\":1.0},\"fill_color\":{\"value\":\"#30a2da\"},\"hatch_alpha\":{\"value\":1.0},\"hatch_color\":{\"value\":\"#30a2da\"},\"hatch_scale\":{\"value\":12.0},\"hatch_weight\":{\"value\":1.0},\"left\":{\"field\":\"left\"},\"line_alpha\":{\"value\":1.0},\"line_cap\":{\"value\":\"butt\"},\"line_color\":{\"value\":\"black\"},\"line_dash\":{\"value\":[]},\"line_dash_offset\":{\"value\":0},\"line_join\":{\"value\":\"bevel\"},\"line_width\":{\"value\":1},\"right\":{\"field\":\"right\"},\"top\":{\"field\":\"top\"}},\"id\":\"5480\",\"type\":\"Quad\"},{\"attributes\":{\"end\":1649.5,\"reset_end\":1649.5,\"reset_start\":0.0,\"tags\":[[[\"MedHouseVal_count\",\"Count\",null]]]},\"id\":\"5440\",\"type\":\"Range1d\"},{\"attributes\":{},\"id\":\"5447\",\"type\":\"LinearScale\"},{\"attributes\":{\"overlay\":{\"id\":\"5464\"}},\"id\":\"5462\",\"type\":\"BoxZoomTool\"}],\"root_ids\":[\"5437\"]},\"title\":\"Bokeh Application\",\"version\":\"2.4.2\"}};\n",
       "    var render_items = [{\"docid\":\"52d753fd-a02e-48f6-b52b-4e3bb6ffc8f5\",\"root_ids\":[\"5437\"],\"roots\":{\"5437\":\"ca968a0d-b791-4abb-a708-8912dd971dad\"}}];\n",
       "    root.Bokeh.embed.embed_items_notebook(docs_json, render_items);\n",
       "  }\n",
       "  if (root.Bokeh !== undefined && root.Bokeh.Panel !== undefined) {\n",
       "    embed_document(root);\n",
       "  } else {\n",
       "    var attempts = 0;\n",
       "    var timer = setInterval(function(root) {\n",
       "      if (root.Bokeh !== undefined && root.Bokeh.Panel !== undefined) {\n",
       "        clearInterval(timer);\n",
       "        embed_document(root);\n",
       "      } else if (document.readyState == \"complete\") {\n",
       "        attempts++;\n",
       "        if (attempts > 200) {\n",
       "          clearInterval(timer);\n",
       "          console.log(\"Bokeh: ERROR: Unable to run BokehJS code because BokehJS library is missing\");\n",
       "        }\n",
       "      }\n",
       "    }, 25, root)\n",
       "  }\n",
       "})(window);</script>"
      ],
      "text/plain": [
       ":Histogram   [MedHouseVal]   (MedHouseVal_count)"
      ]
     },
     "execution_count": 103,
     "metadata": {
      "application/vnd.holoviews_exec.v0+json": {
       "id": "5437"
      }
     },
     "output_type": "execute_result"
    }
   ],
   "source": [
    "df.hvplot.hist(y='MedHouseVal', bins=30, xlabel='Median House Value($100,000)', ylabel='Count', title='The Median House Value Distribution')"
   ]
  },
  {
   "cell_type": "markdown",
   "metadata": {},
   "source": [
    "Prediction will use $R^2$ Score, which means [Coefficient of determination](https://en.wikipedia.org/wiki/Coefficient_of_determination)\n",
    "\n",
    "$$R^2(y, \\hat{y}) = 1 - \\frac{\\sum_{i=1}^{n} (y_i - \\hat{y}_i)^2}{\\sum_{i=1}^{n} (y_i - \\bar{y})^2}$$\n",
    "\n",
    "where $\\bar{y} = \\frac{1}{n} \\sum_{i=1}^{n} y_i$, $\\sum_{i=1}^{n} (y_i - \\hat{y}_i)^2 = \\sum_{i=1}^{n} \\epsilon_i^2$"
   ]
  },
  {
   "cell_type": "code",
   "execution_count": 106,
   "metadata": {},
   "outputs": [
    {
     "name": "stdout",
     "output_type": "stream",
     "text": [
      "The mean squared error (MSE) on test set is 0.2305\n",
      "The R2 Score on test set is 0.8235\n"
     ]
    },
    {
     "data": {},
     "metadata": {},
     "output_type": "display_data"
    },
    {
     "data": {
      "application/vnd.holoviews_exec.v0+json": "",
      "text/html": [
       "<div id='6069'>\n",
       "\n",
       "\n",
       "\n",
       "\n",
       "\n",
       "  <div class=\"bk-root\" id=\"3fe61ee7-1a94-41e7-adb0-34299794c8a9\" data-root-id=\"6069\"></div>\n",
       "</div>\n",
       "<script type=\"application/javascript\">(function(root) {\n",
       "  function embed_document(root) {\n",
       "    var docs_json = {\"3e529582-bbc7-45a6-9f6e-109446d33038\":{\"defs\":[{\"extends\":null,\"module\":null,\"name\":\"ReactiveHTML1\",\"overrides\":[],\"properties\":[]},{\"extends\":null,\"module\":null,\"name\":\"FlexBox1\",\"overrides\":[],\"properties\":[{\"default\":\"flex-start\",\"kind\":null,\"name\":\"align_content\"},{\"default\":\"flex-start\",\"kind\":null,\"name\":\"align_items\"},{\"default\":\"row\",\"kind\":null,\"name\":\"flex_direction\"},{\"default\":\"wrap\",\"kind\":null,\"name\":\"flex_wrap\"},{\"default\":\"flex-start\",\"kind\":null,\"name\":\"justify_content\"}]},{\"extends\":null,\"module\":null,\"name\":\"TemplateActions1\",\"overrides\":[],\"properties\":[{\"default\":0,\"kind\":null,\"name\":\"open_modal\"},{\"default\":0,\"kind\":null,\"name\":\"close_modal\"}]},{\"extends\":null,\"module\":null,\"name\":\"MaterialTemplateActions1\",\"overrides\":[],\"properties\":[{\"default\":0,\"kind\":null,\"name\":\"open_modal\"},{\"default\":0,\"kind\":null,\"name\":\"close_modal\"}]}],\"roots\":{\"references\":[{\"attributes\":{\"end\":1.2746730875345385,\"reset_end\":1.2746730875345385,\"reset_start\":0.07700867928238977,\"start\":0.07700867928238977,\"tags\":[[[\"value\",\"value\",null]]]},\"id\":\"6072\",\"type\":\"Range1d\"},{\"attributes\":{\"line_color\":\"#30a2da\",\"line_width\":2,\"x\":{\"field\":\"index\"},\"y\":{\"field\":\"value\"}},\"id\":\"6131\",\"type\":\"Line\"},{\"attributes\":{},\"id\":\"6133\",\"type\":\"Selection\"},{\"attributes\":{\"label\":{\"value\":\"Train\"},\"renderers\":[{\"id\":\"6117\"}]},\"id\":\"6130\",\"type\":\"LegendItem\"},{\"attributes\":{},\"id\":\"6080\",\"type\":\"LinearScale\"},{\"attributes\":{\"source\":{\"id\":\"6111\"}},\"id\":\"6118\",\"type\":\"CDSView\"},{\"attributes\":{\"line_alpha\":0.2,\"line_color\":\"#30a2da\",\"line_width\":2,\"x\":{\"field\":\"index\"},\"y\":{\"field\":\"value\"}},\"id\":\"6116\",\"type\":\"Line\"},{\"attributes\":{\"line_alpha\":0.1,\"line_color\":\"#fc4f30\",\"line_width\":2,\"x\":{\"field\":\"index\"},\"y\":{\"field\":\"value\"}},\"id\":\"6136\",\"type\":\"Line\"},{\"attributes\":{\"click_policy\":\"mute\",\"coordinates\":null,\"group\":null,\"items\":[{\"id\":\"6130\"},{\"id\":\"6152\"}],\"title\":\"Deviance\"},\"id\":\"6129\",\"type\":\"Legend\"},{\"attributes\":{\"line_color\":\"#fc4f30\",\"line_width\":2,\"x\":{\"field\":\"index\"},\"y\":{\"field\":\"value\"}},\"id\":\"6153\",\"type\":\"Line\"},{\"attributes\":{\"axis_label\":\"Boosting Iteration\",\"coordinates\":null,\"formatter\":{\"id\":\"6106\"},\"group\":null,\"major_label_policy\":{\"id\":\"6107\"},\"ticker\":{\"id\":\"6085\"}},\"id\":\"6084\",\"type\":\"LinearAxis\"},{\"attributes\":{\"line_alpha\":0.2,\"line_color\":\"#fc4f30\",\"line_width\":2,\"x\":{\"field\":\"index\"},\"y\":{\"field\":\"value\"}},\"id\":\"6137\",\"type\":\"Line\"},{\"attributes\":{\"end\":99.0,\"reset_end\":99.0,\"reset_start\":0.0,\"tags\":[[[\"index\",\"index\",null]]]},\"id\":\"6071\",\"type\":\"Range1d\"},{\"attributes\":{\"line_color\":\"#fc4f30\",\"line_width\":2,\"x\":{\"field\":\"index\"},\"y\":{\"field\":\"value\"}},\"id\":\"6135\",\"type\":\"Line\"},{\"attributes\":{\"below\":[{\"id\":\"6084\"}],\"center\":[{\"id\":\"6087\"},{\"id\":\"6091\"},{\"id\":\"6129\"}],\"height\":300,\"left\":[{\"id\":\"6088\"}],\"margin\":[5,5,5,5],\"min_border_bottom\":10,\"min_border_left\":10,\"min_border_right\":10,\"min_border_top\":10,\"renderers\":[{\"id\":\"6117\"},{\"id\":\"6138\"}],\"sizing_mode\":\"fixed\",\"title\":{\"id\":\"6076\"},\"toolbar\":{\"id\":\"6098\"},\"width\":500,\"x_range\":{\"id\":\"6071\"},\"x_scale\":{\"id\":\"6080\"},\"y_range\":{\"id\":\"6072\"},\"y_scale\":{\"id\":\"6082\"}},\"id\":\"6075\",\"subtype\":\"Figure\",\"type\":\"Plot\"},{\"attributes\":{\"coordinates\":null,\"data_source\":{\"id\":\"6132\"},\"glyph\":{\"id\":\"6135\"},\"group\":null,\"hover_glyph\":null,\"muted_glyph\":{\"id\":\"6137\"},\"nonselection_glyph\":{\"id\":\"6136\"},\"selection_glyph\":{\"id\":\"6153\"},\"view\":{\"id\":\"6139\"}},\"id\":\"6138\",\"type\":\"GlyphRenderer\"},{\"attributes\":{},\"id\":\"6085\",\"type\":\"BasicTicker\"},{\"attributes\":{\"margin\":[5,5,5,5],\"name\":\"HSpacer10472\",\"sizing_mode\":\"stretch_width\"},\"id\":\"6070\",\"type\":\"Spacer\"},{\"attributes\":{\"label\":{\"value\":\"Test\"},\"renderers\":[{\"id\":\"6138\"}]},\"id\":\"6152\",\"type\":\"LegendItem\"},{\"attributes\":{\"callback\":null,\"renderers\":[{\"id\":\"6117\"},{\"id\":\"6138\"}],\"tags\":[\"hv_created\"],\"tooltips\":[[\"Deviance\",\"@{Deviance}\"],[\"index\",\"@{index}\"],[\"value\",\"@{value}\"]]},\"id\":\"6073\",\"type\":\"HoverTool\"},{\"attributes\":{\"data\":{\"Deviance\":[\"Test\",\"Test\",\"Test\",\"Test\",\"Test\",\"Test\",\"Test\",\"Test\",\"Test\",\"Test\",\"Test\",\"Test\",\"Test\",\"Test\",\"Test\",\"Test\",\"Test\",\"Test\",\"Test\",\"Test\",\"Test\",\"Test\",\"Test\",\"Test\",\"Test\",\"Test\",\"Test\",\"Test\",\"Test\",\"Test\",\"Test\",\"Test\",\"Test\",\"Test\",\"Test\",\"Test\",\"Test\",\"Test\",\"Test\",\"Test\",\"Test\",\"Test\",\"Test\",\"Test\",\"Test\",\"Test\",\"Test\",\"Test\",\"Test\",\"Test\",\"Test\",\"Test\",\"Test\",\"Test\",\"Test\",\"Test\",\"Test\",\"Test\",\"Test\",\"Test\",\"Test\",\"Test\",\"Test\",\"Test\",\"Test\",\"Test\",\"Test\",\"Test\",\"Test\",\"Test\",\"Test\",\"Test\",\"Test\",\"Test\",\"Test\",\"Test\",\"Test\",\"Test\",\"Test\",\"Test\",\"Test\",\"Test\",\"Test\",\"Test\",\"Test\",\"Test\",\"Test\",\"Test\",\"Test\",\"Test\",\"Test\",\"Test\",\"Test\",\"Test\",\"Test\",\"Test\",\"Test\",\"Test\",\"Test\",\"Test\"],\"index\":[0,1,2,3,4,5,6,7,8,9,10,11,12,13,14,15,16,17,18,19,20,21,22,23,24,25,26,27,28,29,30,31,32,33,34,35,36,37,38,39,40,41,42,43,44,45,46,47,48,49,50,51,52,53,54,55,56,57,58,59,60,61,62,63,64,65,66,67,68,69,70,71,72,73,74,75,76,77,78,79,80,81,82,83,84,85,86,87,88,89,90,91,92,93,94,95,96,97,98,99],\"value\":{\"__ndarray__\":\"bc2yJyRu8j+5XoFkMl7wPxq0UvFOSe0//FfF5bp06j+VV5iR+RroP2Q+wNBuHOY/fKO37JF35D+vrpzvVgLjPxGnpGl62eE/AOMPaoy64D+h1O+l3Z7fP2Lio+FCH94/A0zl3rK+3D+nRTPiLYrbP0yhl1ztjdo/coXMsdG92T+UZRa2JwvZP0aTUQYhY9g/qD71u4He1z9owH3wWDHXP2/NY9kzptY/nwPZLPIH1j8+Yq2AqWvVP+MzHCLbBdU/fWPoRnt31D/vgnrA5yvUPwE2lsZ9wNM/b+iNKily0z+jld1UcwvTP31OF/GbtNI/ZvEXmwOU0j+N7xbo3kPSP4X7DusQHNI/PqEf8uj60T+29voAL8/RP/Tv2BJ1k9E/xCoibZNZ0T9mHbTPTEfRP3RTNmlAJ9E/8wWhsC0S0T/0MWiage3QP0/gz0nz4NA/wAbG4BDI0D/y3E8cb7TQP6UCUccgqdA/jswdJPiX0D+VDzqh/XbQP2lcKgHQY9A/2Qr2rjRO0D8ZYLwws0fQP/L/+HI9O9A/p0OUT+Uj0D/A78Oqkh/QPxdfKZ6DB9A/Gnarou34zz9l3+v9gM/PP1mCZ3Qhvs8/jM4sTsCbzz/m408I7oHPPx5shanQbM8/WDJYu7FSzz/KtUJjdz/PP5ENC5+ANM8/pwNnR4gRzz+znJ3aVQvPP3q6KikR/s4/K9Dr1pfpzj/5V22eVeHOP/lnj/Ttw84//HGe+mqszj8e9i1yVo7OP3aNYoYxi84/z4yaNXeLzj+WSd7kqX/OPyCOLO93b84/hVe2sjNhzj/DJzKRnkzOP+yKb2dnO84/PtN1lFkwzj+1UrpNWRPOP7eA3CTaCc4/asMv3q/9zT8r8sWP/PzNP+JKzJJC880/be4sTabuzT+zl5J9d+LNPyt+lgHR2M0/wN/A8F7YzT+iiNyLH8vNPzLQMs7nws0/0+Wkh5/DzT+ev0MG6LzNP9txLIfPv80/rm/Am0q1zT9JToYHbavNP6PwugePpM0/6qcRD/+TzT/FtPECdJXNP7Qhz834hs0/QEN2jo1/zT8=\",\"dtype\":\"float64\",\"order\":\"little\",\"shape\":[100]}},\"selected\":{\"id\":\"6133\"},\"selection_policy\":{\"id\":\"6149\"}},\"id\":\"6132\",\"type\":\"ColumnDataSource\"},{\"attributes\":{\"coordinates\":null,\"group\":null,\"text\":\"Deviance by boosting iteration\",\"text_color\":\"black\",\"text_font_size\":\"12pt\"},\"id\":\"6076\",\"type\":\"Title\"},{\"attributes\":{\"children\":[{\"id\":\"6070\"},{\"id\":\"6075\"},{\"id\":\"6262\"}],\"margin\":[0,0,0,0],\"name\":\"Row10468\",\"tags\":[\"embedded\"]},\"id\":\"6069\",\"type\":\"Row\"},{\"attributes\":{\"source\":{\"id\":\"6132\"}},\"id\":\"6139\",\"type\":\"CDSView\"},{\"attributes\":{},\"id\":\"6106\",\"type\":\"BasicTickFormatter\"},{\"attributes\":{\"data\":{\"Deviance\":[\"Train\",\"Train\",\"Train\",\"Train\",\"Train\",\"Train\",\"Train\",\"Train\",\"Train\",\"Train\",\"Train\",\"Train\",\"Train\",\"Train\",\"Train\",\"Train\",\"Train\",\"Train\",\"Train\",\"Train\",\"Train\",\"Train\",\"Train\",\"Train\",\"Train\",\"Train\",\"Train\",\"Train\",\"Train\",\"Train\",\"Train\",\"Train\",\"Train\",\"Train\",\"Train\",\"Train\",\"Train\",\"Train\",\"Train\",\"Train\",\"Train\",\"Train\",\"Train\",\"Train\",\"Train\",\"Train\",\"Train\",\"Train\",\"Train\",\"Train\",\"Train\",\"Train\",\"Train\",\"Train\",\"Train\",\"Train\",\"Train\",\"Train\",\"Train\",\"Train\",\"Train\",\"Train\",\"Train\",\"Train\",\"Train\",\"Train\",\"Train\",\"Train\",\"Train\",\"Train\",\"Train\",\"Train\",\"Train\",\"Train\",\"Train\",\"Train\",\"Train\",\"Train\",\"Train\",\"Train\",\"Train\",\"Train\",\"Train\",\"Train\",\"Train\",\"Train\",\"Train\",\"Train\",\"Train\",\"Train\",\"Train\",\"Train\",\"Train\",\"Train\",\"Train\",\"Train\",\"Train\",\"Train\",\"Train\",\"Train\"],\"index\":[0,1,2,3,4,5,6,7,8,9,10,11,12,13,14,15,16,17,18,19,20,21,22,23,24,25,26,27,28,29,30,31,32,33,34,35,36,37,38,39,40,41,42,43,44,45,46,47,48,49,50,51,52,53,54,55,56,57,58,59,60,61,62,63,64,65,66,67,68,69,70,71,72,73,74,75,76,77,78,79,80,81,82,83,84,85,86,87,88,89,90,91,92,93,94,95,96,97,98,99],\"value\":{\"__ndarray__\":\"1Mw0GELM8j9cOjcS9KnwPyfXYQ+nw+0/RBrrkUPU6j+HHL+GXGLoP6YhpUG1SuY/39NTdIGJ5D+uAT398QvjP8U6MoPnzuE/H/Zktp6f4D/XaN4+sFPfPyXW0kkqzN0/bPDiQVxZ3D/JVU1ZMRTbP37ygPMZAdo/rCtfWSAW2T+9xsTc6FLYPxEW/O6GqNc/JzKWraoG1z+ASL5FFFjWPyZgRv74x9U/1CjsCTwX1T++8WcfGmzUP4lqs67KAtQ/8Xf7Ihxl0z+duNTOWBDTP5p9pMilmtI/nPcRbNNN0j9bGIUdJ+PRP7c8MgO/edE/KhAwUJxO0T9JDkKS++zQPzNDBRhdsNA/JiyDeoaJ0D/fuV/MplvQP+1PrdgQGNA/1C43xe+czz9epZn4tFnPPwLVag1v/s4/kNqYhoK1zj8pp5bL2mPOP2H3Cpc0Ks4/Watn9ObdzT8P401Eh5vNPwb/8FoEb80/ldrh6/JDzT/qpACLg+bMPya9962fqsw/QvPo/Kp6zD9FlgUi0FbMP4d+GNOZMsw/tIhOJG3syz93pPxOR7zLPyAGUmIigcs/QQ30m5Fnyz9DSQDzmTjLP/fuFgKZIMs/1EaHQ9vlyj/4HggDUsHKP8S1koS7p8o/5aDwgXxuyj9CjMPa71nKP08kV0bEJso/w7kwJbnyyT/xMDB1fdnJPwiqg6NXtck/yt1QdYWbyT89q1mpO4fJP123nNQDb8k/mRl88P5QyT/nwd+WyibJP5zdpjwYGck/VgUOP/X8yD/MRGlnL+TIP+2/VBnR0Mg/MlRbANC5yD8fzjlu45fIP9W96b0Fg8g/aRZt5uJsyD8f2/BkjUXIPwfrLlU3Msg/zz2G3ykZyD+KDn+4rgXIP7sIvtjg6cc/HHdFN+TXxz+nau4gd8HHPwzfNPhprMc/bTn7Xqudxz+g/5JuAI7HP8GyG86Gdcc/QtM/N75axz9ILolZQk7HP0hEaGlfOcc/GNgBZuYXxz+0rWR15wfHPzT1OyD078Y/livlk3zbxj8GH3/dIcnGP8fBcUPxr8Y//Jvjudehxj8=\",\"dtype\":\"float64\",\"order\":\"little\",\"shape\":[100]}},\"selected\":{\"id\":\"6112\"},\"selection_policy\":{\"id\":\"6126\"}},\"id\":\"6111\",\"type\":\"ColumnDataSource\"},{\"attributes\":{},\"id\":\"6112\",\"type\":\"Selection\"},{\"attributes\":{},\"id\":\"6082\",\"type\":\"LinearScale\"},{\"attributes\":{},\"id\":\"6149\",\"type\":\"UnionRenderers\"},{\"attributes\":{},\"id\":\"6107\",\"type\":\"AllLabels\"},{\"attributes\":{\"axis\":{\"id\":\"6084\"},\"coordinates\":null,\"grid_line_color\":null,\"group\":null,\"ticker\":null},\"id\":\"6087\",\"type\":\"Grid\"},{\"attributes\":{\"tools\":[{\"id\":\"6073\"},{\"id\":\"6092\"},{\"id\":\"6093\"},{\"id\":\"6094\"},{\"id\":\"6095\"},{\"id\":\"6096\"}]},\"id\":\"6098\",\"type\":\"Toolbar\"},{\"attributes\":{},\"id\":\"6089\",\"type\":\"BasicTicker\"},{\"attributes\":{\"line_alpha\":0.1,\"line_color\":\"#30a2da\",\"line_width\":2,\"x\":{\"field\":\"index\"},\"y\":{\"field\":\"value\"}},\"id\":\"6115\",\"type\":\"Line\"},{\"attributes\":{},\"id\":\"6093\",\"type\":\"PanTool\"},{\"attributes\":{\"axis\":{\"id\":\"6088\"},\"coordinates\":null,\"dimension\":1,\"grid_line_color\":null,\"group\":null,\"ticker\":null},\"id\":\"6091\",\"type\":\"Grid\"},{\"attributes\":{\"coordinates\":null,\"data_source\":{\"id\":\"6111\"},\"glyph\":{\"id\":\"6114\"},\"group\":null,\"hover_glyph\":null,\"muted_glyph\":{\"id\":\"6116\"},\"nonselection_glyph\":{\"id\":\"6115\"},\"selection_glyph\":{\"id\":\"6131\"},\"view\":{\"id\":\"6118\"}},\"id\":\"6117\",\"type\":\"GlyphRenderer\"},{\"attributes\":{\"axis_label\":\"Deviance\",\"coordinates\":null,\"formatter\":{\"id\":\"6109\"},\"group\":null,\"major_label_policy\":{\"id\":\"6110\"},\"ticker\":{\"id\":\"6089\"}},\"id\":\"6088\",\"type\":\"LinearAxis\"},{\"attributes\":{\"margin\":[5,5,5,5],\"name\":\"HSpacer10473\",\"sizing_mode\":\"stretch_width\"},\"id\":\"6262\",\"type\":\"Spacer\"},{\"attributes\":{},\"id\":\"6094\",\"type\":\"WheelZoomTool\"},{\"attributes\":{},\"id\":\"6110\",\"type\":\"AllLabels\"},{\"attributes\":{},\"id\":\"6126\",\"type\":\"UnionRenderers\"},{\"attributes\":{},\"id\":\"6092\",\"type\":\"SaveTool\"},{\"attributes\":{\"line_color\":\"#30a2da\",\"line_width\":2,\"x\":{\"field\":\"index\"},\"y\":{\"field\":\"value\"}},\"id\":\"6114\",\"type\":\"Line\"},{\"attributes\":{\"overlay\":{\"id\":\"6097\"}},\"id\":\"6095\",\"type\":\"BoxZoomTool\"},{\"attributes\":{},\"id\":\"6096\",\"type\":\"ResetTool\"},{\"attributes\":{\"bottom_units\":\"screen\",\"coordinates\":null,\"fill_alpha\":0.5,\"fill_color\":\"lightgrey\",\"group\":null,\"left_units\":\"screen\",\"level\":\"overlay\",\"line_alpha\":1.0,\"line_color\":\"black\",\"line_dash\":[4,4],\"line_width\":2,\"right_units\":\"screen\",\"syncable\":false,\"top_units\":\"screen\"},\"id\":\"6097\",\"type\":\"BoxAnnotation\"},{\"attributes\":{},\"id\":\"6109\",\"type\":\"BasicTickFormatter\"}],\"root_ids\":[\"6069\"]},\"title\":\"Bokeh Application\",\"version\":\"2.4.2\"}};\n",
       "    var render_items = [{\"docid\":\"3e529582-bbc7-45a6-9f6e-109446d33038\",\"root_ids\":[\"6069\"],\"roots\":{\"6069\":\"3fe61ee7-1a94-41e7-adb0-34299794c8a9\"}}];\n",
       "    root.Bokeh.embed.embed_items_notebook(docs_json, render_items);\n",
       "  }\n",
       "  if (root.Bokeh !== undefined && root.Bokeh.Panel !== undefined) {\n",
       "    embed_document(root);\n",
       "  } else {\n",
       "    var attempts = 0;\n",
       "    var timer = setInterval(function(root) {\n",
       "      if (root.Bokeh !== undefined && root.Bokeh.Panel !== undefined) {\n",
       "        clearInterval(timer);\n",
       "        embed_document(root);\n",
       "      } else if (document.readyState == \"complete\") {\n",
       "        attempts++;\n",
       "        if (attempts > 200) {\n",
       "          clearInterval(timer);\n",
       "          console.log(\"Bokeh: ERROR: Unable to run BokehJS code because BokehJS library is missing\");\n",
       "        }\n",
       "      }\n",
       "    }, 25, root)\n",
       "  }\n",
       "})(window);</script>"
      ],
      "text/plain": [
       ":NdOverlay   [Deviance]\n",
       "   :Curve   [index]   (value)"
      ]
     },
     "execution_count": 106,
     "metadata": {
      "application/vnd.holoviews_exec.v0+json": {
       "id": "6069"
      }
     },
     "output_type": "execute_result"
    }
   ],
   "source": [
    "seed = 7\n",
    "X_train, X_test, y_train, y_test = train_test_split(df.iloc[:, :-1], df.iloc[:, -1], test_size=0.1, random_state=seed)\n",
    "params = {\n",
    "    'loss': 'squared_error',\n",
    "    'learning_rate': 0.1,\n",
    "    'n_estimators': 100,\n",
    "    'random_state': seed,\n",
    "    'max_depth': 5,\n",
    "    'subsample': 1.0\n",
    "}\n",
    "\n",
    "model = GradientBoostingRegressor(**params)\n",
    "model.fit(X_train, y_train)\n",
    "\n",
    "# plot learning graph\n",
    "test_score  = np.zeros((params[\"n_estimators\"],), dtype=np.float64)\n",
    "\n",
    "for i, y_pred in enumerate(model.staged_predict(X_test)):\n",
    "    # model.loss_ assumes that y_test[i] in {0, 1}\n",
    "    test_score[i] = model.loss_(y_test, y_pred)\n",
    "\n",
    "# fig, ax = plt.subplots(1, 1, figsize=(12, 6))\n",
    "df_results = pd.DataFrame(\n",
    "    np.stack([model.train_score_, test_score]).T, columns=['Train', 'Test']\n",
    ")\n",
    "p_result = df_results.hvplot.line(\n",
    "    xlabel='Boosting Iteration', ylabel='Deviance', group_label='Deviance', title='Deviance by boosting iteration',\n",
    "    width=500, height=300, legend='top_right'\n",
    ")\n",
    "\n",
    "y_pred = model.predict(X_test)\n",
    "print(f'The mean squared error (MSE) on test set is {mean_squared_error(y_true=y_test, y_pred=y_pred):.4f}')\n",
    "print(f'The R2 Score on test set is {r2_score(y_true=y_test, y_pred=y_pred):.4f}')\n",
    "p_result"
   ]
  },
  {
   "cell_type": "code",
   "execution_count": 113,
   "metadata": {},
   "outputs": [
    {
     "data": {
      "image/png": "[encoded data removed]",
      "text/plain": [
       "<Figure size 864x432 with 2 Axes>"
      ]
     },
     "metadata": {
      "needs_background": "light"
     },
     "output_type": "display_data"
    }
   ],
   "source": [
    "feature_importance = model.feature_importances_\n",
    "sorted_idx = np.argsort(feature_importance)\n",
    "pos = np.arange(sorted_idx.shape[0]) + 0.5\n",
    "fig = plt.figure(figsize=(12, 6))\n",
    "plt.subplot(1, 2, 1)\n",
    "plt.barh(pos, feature_importance[sorted_idx], align=\"center\")\n",
    "plt.yticks(pos, np.array(house.feature_names)[sorted_idx])\n",
    "plt.title(\"Feature Importance (MDI)\")\n",
    "\n",
    "result = permutation_importance(\n",
    "    model, X_test, y_test, n_repeats=20, random_state=seed, n_jobs=2\n",
    ")\n",
    "sorted_idx = result.importances_mean.argsort()\n",
    "plt.subplot(1, 2, 2)\n",
    "plt.boxplot(\n",
    "    result.importances[sorted_idx].T,\n",
    "    vert=False,\n",
    "    labels=np.array(house.feature_names)[sorted_idx],\n",
    ")\n",
    "plt.title(\"Permutation Importance (test set)\")\n",
    "fig.tight_layout()\n",
    "plt.show()"
   ]
  },
  {
   "cell_type": "code",
   "execution_count": 119,
   "metadata": {},
   "outputs": [
    {
     "name": "stdout",
     "output_type": "stream",
     "text": [
      "The mean squared error (MSE) on test set is 0.1774\n",
      "The R2 Score on test set is 0.8668\n"
     ]
    }
   ],
   "source": [
    "model = GradientBoostingRegressor(**params)\n",
    "model.fit(df.iloc[:, :-1], df.iloc[:, -1])\n",
    "y_pred = model.predict(df.iloc[:, :-1])\n",
    "print(f'The mean squared error (MSE) on test set is {mean_squared_error(y_true=df.iloc[:, -1], y_pred=y_pred):.4f}')\n",
    "print(f'The R2 Score on test set is {r2_score(y_true=df.iloc[:, -1], y_pred=y_pred):.4f}')"
   ]
  },
  {
   "cell_type": "code",
   "execution_count": 116,
   "metadata": {},
   "outputs": [
    {
     "data": {
      "text/html": [
       "<div>\n",
       "<style scoped>\n",
       "    .dataframe tbody tr th:only-of-type {\n",
       "        vertical-align: middle;\n",
       "    }\n",
       "\n",
       "    .dataframe tbody tr th {\n",
       "        vertical-align: top;\n",
       "    }\n",
       "\n",
       "    .dataframe thead th {\n",
       "        text-align: right;\n",
       "    }\n",
       "</style>\n",
       "<table border=\"1\" class=\"dataframe\">\n",
       "  <thead>\n",
       "    <tr style=\"text-align: right;\">\n",
       "      <th></th>\n",
       "      <th>MedInc</th>\n",
       "      <th>HouseAge</th>\n",
       "      <th>AveRooms</th>\n",
       "      <th>AveBedrms</th>\n",
       "      <th>Population</th>\n",
       "      <th>AveOccup</th>\n",
       "      <th>Latitude</th>\n",
       "      <th>Longitude</th>\n",
       "      <th>MedHouseVal</th>\n",
       "    </tr>\n",
       "  </thead>\n",
       "  <tbody>\n",
       "    <tr>\n",
       "      <th>0</th>\n",
       "      <td>8.3252</td>\n",
       "      <td>41.0</td>\n",
       "      <td>6.984127</td>\n",
       "      <td>1.02381</td>\n",
       "      <td>322.0</td>\n",
       "      <td>2.555556</td>\n",
       "      <td>37.88</td>\n",
       "      <td>-122.23</td>\n",
       "      <td>4.526</td>\n",
       "    </tr>\n",
       "    <tr>\n",
       "      <th>1</th>\n",
       "      <td>8.3014</td>\n",
       "      <td>21.0</td>\n",
       "      <td>6.238137</td>\n",
       "      <td>0.97188</td>\n",
       "      <td>2401.0</td>\n",
       "      <td>2.109842</td>\n",
       "      <td>37.86</td>\n",
       "      <td>-122.22</td>\n",
       "      <td>3.585</td>\n",
       "    </tr>\n",
       "  </tbody>\n",
       "</table>\n",
       "</div>"
      ],
      "text/plain": [
       "   MedInc  HouseAge  AveRooms  AveBedrms  Population  AveOccup  Latitude  \\\n",
       "0  8.3252      41.0  6.984127    1.02381       322.0  2.555556     37.88   \n",
       "1  8.3014      21.0  6.238137    0.97188      2401.0  2.109842     37.86   \n",
       "\n",
       "   Longitude  MedHouseVal  \n",
       "0    -122.23        4.526  \n",
       "1    -122.22        3.585  "
      ]
     },
     "execution_count": 116,
     "metadata": {},
     "output_type": "execute_result"
    }
   ],
   "source": [
    "df.head(2)"
   ]
  },
  {
   "cell_type": "code",
   "execution_count": 125,
   "metadata": {},
   "outputs": [
    {
     "data": {
      "text/plain": [
       "<sklearn.inspection._plot.partial_dependence.PartialDependenceDisplay at 0x182f905bb80>"
      ]
     },
     "execution_count": 125,
     "metadata": {},
     "output_type": "execute_result"
    },
    {
     "data": {
      "image/png": "[encoded data removed]",
      "text/plain": [
       "<Figure size 432x288 with 4 Axes>"
      ]
     },
     "metadata": {
      "needs_background": "light"
     },
     "output_type": "display_data"
    }
   ],
   "source": [
    "features = [0, 5, (0, 5)]\n",
    "PartialDependenceDisplay.from_estimator(model, df, features=features, n_cols=2)"
   ]
  },
  {
   "cell_type": "markdown",
   "metadata": {},
   "source": [
    "## References\n",
    "\n",
    "- https://christophm.github.io/interpretable-ml-book/pdp.html\n",
    "- https://scikit-learn.org/stable/modules/partial_dependence.html\n",
    "- https://soohee410.github.io/iml_pdp"
   ]
  }
 ],
 "metadata": {
  "interpreter": {
   "hash": "31f5ad409cdd467ecf3120512f3deb4dcc0a445587ce3facfbd8260d291bb18d"
  },
  "kernelspec": {
   "display_name": "Python 3.8.12 ('base')",
   "language": "python",
   "name": "python3"
  },
  "language_info": {
   "codemirror_mode": {
    "name": "ipython",
    "version": 3
   },
   "file_extension": ".py",
   "mimetype": "text/x-python",
   "name": "python",
   "nbconvert_exporter": "python",
   "pygments_lexer": "ipython3",
   "version": "3.8.12"
  },
  "orig_nbformat": 4
 },
 "nbformat": 4,
 "nbformat_minor": 2
}
