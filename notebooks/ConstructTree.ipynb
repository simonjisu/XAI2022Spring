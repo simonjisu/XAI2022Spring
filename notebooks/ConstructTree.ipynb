{
 "cells": [
  {
   "cell_type": "code",
   "execution_count": 1,
   "id": "2894bfa7",
   "metadata": {},
   "outputs": [],
   "source": [
    "import numpy as np\n",
    "import pandas as pd\n",
    "import seaborn as sns\n",
    "\n",
    "import itertools\n",
    "from collections import defaultdict\n",
    "\n",
    "from typing import Dict, Tuple, Any\n",
    "from anytree import Node, RenderTree"
   ]
  },
  {
   "cell_type": "markdown",
   "id": "fe67b425",
   "metadata": {},
   "source": [
    "## Construct a tree"
   ]
  },
  {
   "cell_type": "code",
   "execution_count": 2,
   "id": "d5a915f0",
   "metadata": {},
   "outputs": [],
   "source": [
    "# function g: combined features shepley values ranking\n",
    "def g(scores: Dict[Tuple[Any], float]) -> Tuple[Tuple[Any], float]:\n",
    "    l = sorted(scores.items(), key=lambda x: abs(x[1]), reverse=True)\n",
    "    return l[0]\n",
    "\n",
    "def flatten(li):\n",
    "    for ele in li:\n",
    "        if isinstance(ele, list) or isinstance(ele, tuple):\n",
    "            yield from flatten(ele)\n",
    "        else:\n",
    "            yield ele"
   ]
  },
  {
   "cell_type": "code",
   "execution_count": 3,
   "id": "7ba2931c",
   "metadata": {},
   "outputs": [
    {
     "data": {
      "text/html": [
       "<div>\n",
       "<style scoped>\n",
       "    .dataframe tbody tr th:only-of-type {\n",
       "        vertical-align: middle;\n",
       "    }\n",
       "\n",
       "    .dataframe tbody tr th {\n",
       "        vertical-align: top;\n",
       "    }\n",
       "\n",
       "    .dataframe thead th {\n",
       "        text-align: right;\n",
       "    }\n",
       "</style>\n",
       "<table border=\"1\" class=\"dataframe\">\n",
       "  <thead>\n",
       "    <tr style=\"text-align: right;\">\n",
       "      <th></th>\n",
       "      <th>A</th>\n",
       "      <th>B</th>\n",
       "      <th>C</th>\n",
       "      <th>D</th>\n",
       "    </tr>\n",
       "  </thead>\n",
       "  <tbody>\n",
       "    <tr>\n",
       "      <th>A</th>\n",
       "      <td>0.091205</td>\n",
       "      <td>-2.296492</td>\n",
       "      <td>0.794828</td>\n",
       "      <td>-1.123327</td>\n",
       "    </tr>\n",
       "    <tr>\n",
       "      <th>B</th>\n",
       "      <td>-2.296492</td>\n",
       "      <td>2.409834</td>\n",
       "      <td>0.976421</td>\n",
       "      <td>-0.664035</td>\n",
       "    </tr>\n",
       "    <tr>\n",
       "      <th>C</th>\n",
       "      <td>0.794828</td>\n",
       "      <td>0.976421</td>\n",
       "      <td>-1.183427</td>\n",
       "      <td>-0.378359</td>\n",
       "    </tr>\n",
       "    <tr>\n",
       "      <th>D</th>\n",
       "      <td>-1.123327</td>\n",
       "      <td>-0.664035</td>\n",
       "      <td>-0.378359</td>\n",
       "      <td>-0.791615</td>\n",
       "    </tr>\n",
       "  </tbody>\n",
       "</table>\n",
       "</div>"
      ],
      "text/plain": [
       "          A         B         C         D\n",
       "A  0.091205 -2.296492  0.794828 -1.123327\n",
       "B -2.296492  2.409834  0.976421 -0.664035\n",
       "C  0.794828  0.976421 -1.183427 -0.378359\n",
       "D -1.123327 -0.664035 -0.378359 -0.791615"
      ]
     },
     "execution_count": 3,
     "metadata": {},
     "output_type": "execute_result"
    }
   ],
   "source": [
    "np.random.seed(8)\n",
    "\n",
    "cols = list('ABCD')\n",
    "num_feature = len(cols)\n",
    "siv = np.random.randn(num_feature, num_feature)\n",
    "r, c = np.tril_indices(num_feature, -1)\n",
    "r_u, c_u = zip(*(zip(*(c, r))))\n",
    "siv[r_u, c_u] = siv[r, c]\n",
    "siv_display = pd.DataFrame(siv, index=cols, columns=cols)\n",
    "siv_display"
   ]
  },
  {
   "cell_type": "code",
   "execution_count": 4,
   "id": "9cca5b8e",
   "metadata": {},
   "outputs": [
    {
     "data": {
      "text/plain": [
       "A    0.091205\n",
       "B    2.409834\n",
       "C   -1.183427\n",
       "D   -0.791615\n",
       "Name: main_effect, dtype: float64"
      ]
     },
     "execution_count": 4,
     "metadata": {},
     "output_type": "execute_result"
    }
   ],
   "source": [
    "r_diag, c_diag = np.diag_indices(num_feature)\n",
    "main_effect = siv[r_diag, c_diag]\n",
    "pd.Series(main_effect, index=cols, name='main_effect')"
   ]
  },
  {
   "cell_type": "code",
   "execution_count": 5,
   "id": "6b906351",
   "metadata": {},
   "outputs": [
    {
     "name": "stdout",
     "output_type": "stream",
     "text": [
      "Init Nodes:\n",
      "{0: Node('/A', value=0.09120471661981977),\n",
      " 1: Node('/B', value=2.4098343033415413),\n",
      " 2: Node('/C', value=-1.183427147333015),\n",
      " 3: Node('/D', value=-0.7916152714963363)}\n"
     ]
    }
   ],
   "source": [
    "import pprint\n",
    "\n",
    "# init\n",
    "nodes = {}\n",
    "for i, c in enumerate(cols):\n",
    "    nodes[i] = Node(name=c, parent=None, value=main_effect[i])\n",
    "print('Init Nodes:')\n",
    "pprint.pprint(nodes)"
   ]
  },
  {
   "cell_type": "code",
   "execution_count": 6,
   "id": "065d0174",
   "metadata": {},
   "outputs": [
    {
     "name": "stdout",
     "output_type": "stream",
     "text": [
      "candidates: [0, 1, 2, 3]\n",
      "Feature Combination: AB\n",
      "co-cordinates: [(0, 0), (0, 1), (1, 0), (1, 1)]\n",
      "Values: [ 0.09120472 -2.29649157 -2.29649157  2.4098343 ]\n",
      "\n",
      "Feature Combination: AC\n",
      "co-cordinates: [(0, 0), (0, 2), (2, 0), (2, 2)]\n",
      "Values: [ 0.09120472  0.79482764  0.79482764 -1.18342715]\n",
      "\n",
      "Feature Combination: AD\n",
      "co-cordinates: [(0, 0), (0, 3), (3, 0), (3, 3)]\n",
      "Values: [ 0.09120472 -1.1233268  -1.1233268  -0.79161527]\n",
      "\n",
      "Feature Combination: BC\n",
      "co-cordinates: [(1, 1), (1, 2), (2, 1), (2, 2)]\n",
      "Values: [ 2.4098343   0.9764211   0.9764211  -1.18342715]\n",
      "\n",
      "Feature Combination: BD\n",
      "co-cordinates: [(1, 1), (1, 3), (3, 1), (3, 3)]\n",
      "Values: [ 2.4098343  -0.66403547 -0.66403547 -0.79161527]\n",
      "\n",
      "Feature Combination: CD\n",
      "co-cordinates: [(2, 2), (2, 3), (3, 2), (3, 3)]\n",
      "Values: [-1.18342715 -0.37835857 -0.37835857 -0.79161527]\n",
      "\n",
      "Max Shapley value combination: BC = 3.1792\n"
     ]
    }
   ],
   "source": [
    "scores = {}\n",
    "done = set()  # check need to run it or pass at the next time\n",
    "\n",
    "# filter done nodes, so that we dont need to run again\n",
    "nodes_to_run = [k for k in nodes.keys() if k not in done]\n",
    "print(f'candidates: {nodes_to_run}')\n",
    "# first round\n",
    "for cmbs in itertools.combinations(nodes_to_run, 2):  # combination = 2 to build binary tree\n",
    "    # score is calculated by sum of all related shapley values\n",
    "    if cmbs not in scores.keys():\n",
    "        r, c = list(zip(*itertools.product(flatten(cmbs), flatten(cmbs))))\n",
    "        scores[cmbs] = siv[r, c].sum()\n",
    "    # print the calulate result\n",
    "    feature_name = ''.join([cols[i] for i in flatten(cmbs)])\n",
    "    print(f'Feature Combination: {feature_name}')\n",
    "    print(f'co-cordinates: {list(zip(*(r, c)))}')\n",
    "    print(f'Values: {siv[r, c]}')\n",
    "    print()\n",
    "\n",
    "cmbs, max_value = g(scores)\n",
    "feature_name = ''.join([cols[i] for i in flatten(cmbs)])\n",
    "print(f'Max Shapley value combination: {feature_name} = {max_value:.4f}')"
   ]
  },
  {
   "cell_type": "code",
   "execution_count": 7,
   "id": "264b3f27",
   "metadata": {},
   "outputs": [
    {
     "data": {
      "text/plain": [
       "{(0, 1): -2.0919441284429663,\n",
       " (0, 2): 0.49743284798360676,\n",
       " (0, 3): -2.9470641559787936,\n",
       " (1, 2): 3.1792493488104068,\n",
       " (1, 3): 0.29014809267699393,\n",
       " (2, 3): -2.731759559566469}"
      ]
     },
     "execution_count": 7,
     "metadata": {},
     "output_type": "execute_result"
    }
   ],
   "source": [
    "scores"
   ]
  },
  {
   "cell_type": "code",
   "execution_count": 8,
   "id": "1a0738ab",
   "metadata": {},
   "outputs": [
    {
     "name": "stdout",
     "output_type": "stream",
     "text": [
      "New Nodes\n",
      "{0: Node('/A', value=0.09120471661981977),\n",
      " 1: Node('/BC/B', value=2.4098343033415413),\n",
      " 2: Node('/BC/C', value=-1.183427147333015),\n",
      " 3: Node('/D', value=-0.7916152714963363),\n",
      " (1, 2): Node('/BC', value=3.1792493488104068)}\n",
      "Scores Left:\n",
      "{(0, 3): -2.9470641559787936}\n"
     ]
    }
   ],
   "source": [
    "feature_name = ''.join([cols[i] for i in flatten(cmbs)])\n",
    "children = []\n",
    "for c in cmbs:\n",
    "    children.append(nodes[c])\n",
    "    done.add(c)\n",
    "    # need to remove all impossible options for 'scores'\n",
    "    impossible_coor = list(filter(lambda x: c in x, scores.keys()))\n",
    "    for coor in impossible_coor:\n",
    "        scores.pop(coor, None)\n",
    "\n",
    "nodes[cmbs] = Node(name=feature_name, value=max_value, children=children)\n",
    "\n",
    "print('New Nodes')\n",
    "pprint.pprint(nodes)\n",
    "print('Scores Left:')\n",
    "pprint.pprint(scores)"
   ]
  },
  {
   "cell_type": "code",
   "execution_count": 9,
   "id": "c2ad2857",
   "metadata": {},
   "outputs": [
    {
     "name": "stdout",
     "output_type": "stream",
     "text": [
      "candidates: [0, 3, (1, 2)]\n",
      "Max Shapley value combination: AD = -2.9471\n"
     ]
    }
   ],
   "source": [
    "# filter done nodes, so that we dont need to run again\n",
    "nodes_to_run = [k for k in nodes.keys() if k not in done]\n",
    "print(f'candidates: {nodes_to_run}')\n",
    "\n",
    "# second round\n",
    "for cmbs in itertools.combinations(nodes_to_run, 2):  # combination = 2 to build binary tree\n",
    "    # score is calculated by sum of all related shapley values\n",
    "    if cmbs not in scores.keys():\n",
    "        r, c = list(zip(*itertools.product(flatten(cmbs), flatten(cmbs))))\n",
    "        scores[cmbs] = siv[r, c].sum()\n",
    "\n",
    "cmbs, max_value = g(scores)\n",
    "feature_name = ''.join([cols[i] for i in flatten(cmbs)])\n",
    "print(f'Max Shapley value combination: {feature_name} = {max_value:.4f}')"
   ]
  },
  {
   "cell_type": "code",
   "execution_count": 10,
   "id": "975ff28a",
   "metadata": {},
   "outputs": [
    {
     "data": {
      "text/plain": [
       "{(0, 3): -2.9470641559787936,\n",
       " (0, (1, 2)): 0.267126195722702,\n",
       " (3, (1, 2)): 0.3028459974087421}"
      ]
     },
     "execution_count": 10,
     "metadata": {},
     "output_type": "execute_result"
    }
   ],
   "source": [
    "scores"
   ]
  },
  {
   "cell_type": "code",
   "execution_count": 11,
   "id": "676f1dfa",
   "metadata": {},
   "outputs": [
    {
     "name": "stdout",
     "output_type": "stream",
     "text": [
      "New Nodes\n",
      "{0: Node('/AD/A', value=0.09120471661981977),\n",
      " 1: Node('/BC/B', value=2.4098343033415413),\n",
      " 2: Node('/BC/C', value=-1.183427147333015),\n",
      " 3: Node('/AD/D', value=-0.7916152714963363),\n",
      " (0, 3): Node('/AD', value=-2.9470641559787936),\n",
      " (1, 2): Node('/BC', value=3.1792493488104068)}\n",
      "Scores Left:\n",
      "{}\n"
     ]
    }
   ],
   "source": [
    "feature_name = ''.join([cols[i] for i in flatten(cmbs)])\n",
    "children = []\n",
    "for c in cmbs:\n",
    "    children.append(nodes[c])\n",
    "    done.add(c)\n",
    "    # need to remove all impossible options for 'scores'\n",
    "    impossible_coor = list(filter(lambda x: c in x, scores.keys()))\n",
    "    for coor in impossible_coor:\n",
    "        scores.pop(coor, None)\n",
    "\n",
    "nodes[cmbs] = Node(name=feature_name, value=max_value, children=children)\n",
    "\n",
    "print('New Nodes')\n",
    "pprint.pprint(nodes)\n",
    "print('Scores Left:')\n",
    "pprint.pprint(scores)"
   ]
  },
  {
   "cell_type": "code",
   "execution_count": 12,
   "id": "27d30292",
   "metadata": {},
   "outputs": [
    {
     "data": {
      "text/plain": [
       "{0: Node('/AD/A', value=0.09120471661981977),\n",
       " 1: Node('/BC/B', value=2.4098343033415413),\n",
       " 2: Node('/BC/C', value=-1.183427147333015),\n",
       " 3: Node('/AD/D', value=-0.7916152714963363),\n",
       " (1, 2): Node('/BC', value=3.1792493488104068),\n",
       " (0, 3): Node('/AD', value=-2.9470641559787936)}"
      ]
     },
     "execution_count": 12,
     "metadata": {},
     "output_type": "execute_result"
    }
   ],
   "source": [
    "nodes"
   ]
  },
  {
   "cell_type": "code",
   "execution_count": 13,
   "id": "b3c40e3a",
   "metadata": {},
   "outputs": [],
   "source": [
    "# need to think about how to end this\n",
    "\n",
    "nodes['root'] = Node(''.join(cols), value=siv.sum(), children=[nodes[(0, 3)], nodes[(1, 2)]])\n",
    "\n",
    "r = RenderTree(nodes['root'])"
   ]
  },
  {
   "cell_type": "code",
   "execution_count": 14,
   "id": "d7767d0c",
   "metadata": {},
   "outputs": [
    {
     "name": "stdout",
     "output_type": "stream",
     "text": [
      "ABCD\n",
      "├── AD\n",
      "│   ├── A\n",
      "│   └── D\n",
      "└── BC\n",
      "    ├── B\n",
      "    └── C\n"
     ]
    }
   ],
   "source": [
    "for pre, fill, node in r:\n",
    "    print(\"%s%s\" % (pre, node.name))"
   ]
  }
 ],
 "metadata": {
  "interpreter": {
   "hash": "da55e460cc83a1f0f5c07ae2bd9e53b3e149c143d23f6ba0ded485c636bdd636"
  },
  "kernelspec": {
   "display_name": "Python 3.10.4 ('XAI2022Spring-DtKgMDFg')",
   "language": "python",
   "name": "python3"
  },
  "language_info": {
   "codemirror_mode": {
    "name": "ipython",
    "version": 3
   },
   "file_extension": ".py",
   "mimetype": "text/x-python",
   "name": "python",
   "nbconvert_exporter": "python",
   "pygments_lexer": "ipython3",
   "version": "3.10.4"
  }
 },
 "nbformat": 4,
 "nbformat_minor": 5
}
